{
 "cells": [
  {
   "cell_type": "code",
   "execution_count": 234,
   "id": "1b3df0db",
   "metadata": {},
   "outputs": [],
   "source": [
    "import numpy as np\n",
    "import pandas as pd\n",
    "import seaborn as sns\n",
    "import matplotlib.pyplot as plt"
   ]
  },
  {
   "cell_type": "markdown",
   "id": "e13e031b",
   "metadata": {},
   "source": [
    "# 1-Read the dataset to the python environment."
   ]
  },
  {
   "cell_type": "code",
   "execution_count": 235,
   "id": "42a184a1",
   "metadata": {},
   "outputs": [
    {
     "data": {
      "text/html": [
       "<div>\n",
       "<style scoped>\n",
       "    .dataframe tbody tr th:only-of-type {\n",
       "        vertical-align: middle;\n",
       "    }\n",
       "\n",
       "    .dataframe tbody tr th {\n",
       "        vertical-align: top;\n",
       "    }\n",
       "\n",
       "    .dataframe thead th {\n",
       "        text-align: right;\n",
       "    }\n",
       "</style>\n",
       "<table border=\"1\" class=\"dataframe\">\n",
       "  <thead>\n",
       "    <tr style=\"text-align: right;\">\n",
       "      <th></th>\n",
       "      <th>SL</th>\n",
       "      <th>SW</th>\n",
       "      <th>PL</th>\n",
       "      <th>PW</th>\n",
       "      <th>Classification</th>\n",
       "    </tr>\n",
       "  </thead>\n",
       "  <tbody>\n",
       "    <tr>\n",
       "      <th>0</th>\n",
       "      <td>5.1</td>\n",
       "      <td>3.5</td>\n",
       "      <td>1.4</td>\n",
       "      <td>0.2</td>\n",
       "      <td>Iris-setosa</td>\n",
       "    </tr>\n",
       "    <tr>\n",
       "      <th>1</th>\n",
       "      <td>4.9</td>\n",
       "      <td>3.0</td>\n",
       "      <td>1.4</td>\n",
       "      <td>0.2</td>\n",
       "      <td>Iris-setosa</td>\n",
       "    </tr>\n",
       "    <tr>\n",
       "      <th>2</th>\n",
       "      <td>NaN</td>\n",
       "      <td>3.2</td>\n",
       "      <td>1.3</td>\n",
       "      <td>0.2</td>\n",
       "      <td>Iris-setosa</td>\n",
       "    </tr>\n",
       "    <tr>\n",
       "      <th>3</th>\n",
       "      <td>4.6</td>\n",
       "      <td>3.1</td>\n",
       "      <td>1.5</td>\n",
       "      <td>0.2</td>\n",
       "      <td>Iris-setosa</td>\n",
       "    </tr>\n",
       "    <tr>\n",
       "      <th>4</th>\n",
       "      <td>5.0</td>\n",
       "      <td>3.6</td>\n",
       "      <td>1.4</td>\n",
       "      <td>0.2</td>\n",
       "      <td>Iris-setosa</td>\n",
       "    </tr>\n",
       "  </tbody>\n",
       "</table>\n",
       "</div>"
      ],
      "text/plain": [
       "    SL   SW   PL   PW Classification\n",
       "0  5.1  3.5  1.4  0.2    Iris-setosa\n",
       "1  4.9  3.0  1.4  0.2    Iris-setosa\n",
       "2  NaN  3.2  1.3  0.2    Iris-setosa\n",
       "3  4.6  3.1  1.5  0.2    Iris-setosa\n",
       "4  5.0  3.6  1.4  0.2    Iris-setosa"
      ]
     },
     "execution_count": 235,
     "metadata": {},
     "output_type": "execute_result"
    }
   ],
   "source": [
    "data=pd.read_excel(r'C:\\DSA\\SUPERVISED LEARNING\\iris (1).xls')\n",
    "data.head()"
   ]
  },
  {
   "cell_type": "code",
   "execution_count": 236,
   "id": "6684d256",
   "metadata": {},
   "outputs": [
    {
     "data": {
      "text/plain": [
       "(150, 5)"
      ]
     },
     "execution_count": 236,
     "metadata": {},
     "output_type": "execute_result"
    }
   ],
   "source": [
    "data.shape"
   ]
  },
  {
   "cell_type": "code",
   "execution_count": 237,
   "id": "897677cc",
   "metadata": {},
   "outputs": [
    {
     "name": "stdout",
     "output_type": "stream",
     "text": [
      "<class 'pandas.core.frame.DataFrame'>\n",
      "RangeIndex: 150 entries, 0 to 149\n",
      "Data columns (total 5 columns):\n",
      " #   Column          Non-Null Count  Dtype  \n",
      "---  ------          --------------  -----  \n",
      " 0   SL              143 non-null    float64\n",
      " 1   SW              144 non-null    float64\n",
      " 2   PL              144 non-null    float64\n",
      " 3   PW              150 non-null    float64\n",
      " 4   Classification  150 non-null    object \n",
      "dtypes: float64(4), object(1)\n",
      "memory usage: 6.0+ KB\n"
     ]
    }
   ],
   "source": [
    "data.info()"
   ]
  },
  {
   "cell_type": "markdown",
   "id": "e839af81",
   "metadata": {},
   "source": [
    "# 2-Do necessary pre-processing steps."
   ]
  },
  {
   "cell_type": "code",
   "execution_count": 238,
   "id": "3507e034",
   "metadata": {},
   "outputs": [],
   "source": [
    "#Check the presence of missing values in the data set"
   ]
  },
  {
   "cell_type": "code",
   "execution_count": 239,
   "id": "fb2ae86e",
   "metadata": {},
   "outputs": [
    {
     "data": {
      "text/plain": [
       "SL                7\n",
       "SW                6\n",
       "PL                6\n",
       "PW                0\n",
       "Classification    0\n",
       "dtype: int64"
      ]
     },
     "execution_count": 239,
     "metadata": {},
     "output_type": "execute_result"
    }
   ],
   "source": [
    "data.isna().sum()"
   ]
  },
  {
   "cell_type": "code",
   "execution_count": 240,
   "id": "83b10797",
   "metadata": {},
   "outputs": [],
   "source": [
    "# There are missing values in SL,SW and PL data set"
   ]
  },
  {
   "cell_type": "code",
   "execution_count": 241,
   "id": "bf1a197e",
   "metadata": {},
   "outputs": [
    {
     "data": {
      "text/plain": [
       "Index(['SL', 'SW', 'PL', 'PW', 'Classification'], dtype='object')"
      ]
     },
     "execution_count": 241,
     "metadata": {},
     "output_type": "execute_result"
    }
   ],
   "source": [
    "data.columns"
   ]
  },
  {
   "cell_type": "code",
   "execution_count": 242,
   "id": "aa6a9819",
   "metadata": {},
   "outputs": [
    {
     "data": {
      "text/plain": [
       "SL                float64\n",
       "SW                float64\n",
       "PL                float64\n",
       "PW                float64\n",
       "Classification     object\n",
       "dtype: object"
      ]
     },
     "execution_count": 242,
     "metadata": {},
     "output_type": "execute_result"
    }
   ],
   "source": [
    "data.dtypes"
   ]
  },
  {
   "cell_type": "code",
   "execution_count": 243,
   "id": "3640f10f",
   "metadata": {},
   "outputs": [],
   "source": [
    "#Handle missing values in SL,SW AND PL"
   ]
  },
  {
   "cell_type": "code",
   "execution_count": 244,
   "id": "7324e734",
   "metadata": {},
   "outputs": [
    {
     "data": {
      "image/png": "[encoded data removed]",
      "text/plain": [
       "<Figure size 1440x1080 with 4 Axes>"
      ]
     },
     "metadata": {
      "needs_background": "light"
     },
     "output_type": "display_data"
    }
   ],
   "source": [
    "graph=data.select_dtypes(include=['float'])\n",
    "graph.hist(figsize=(20,15))\n",
    "plt.show()"
   ]
  },
  {
   "cell_type": "code",
   "execution_count": 245,
   "id": "ef27d347",
   "metadata": {},
   "outputs": [],
   "source": [
    "data['SL']=data['SL'].fillna(data['SL'].median())"
   ]
  },
  {
   "cell_type": "code",
   "execution_count": 246,
   "id": "9187966a",
   "metadata": {},
   "outputs": [],
   "source": [
    "# Take mean to fill the data"
   ]
  },
  {
   "cell_type": "code",
   "execution_count": 247,
   "id": "8b3aaf09",
   "metadata": {},
   "outputs": [],
   "source": [
    "for i in[\"SL\",'SW','PL']:\n",
    "    data[i]=data[i].fillna(data[i].mean())"
   ]
  },
  {
   "cell_type": "code",
   "execution_count": 248,
   "id": "97896041",
   "metadata": {},
   "outputs": [
    {
     "data": {
      "text/plain": [
       "SL                0\n",
       "SW                0\n",
       "PL                0\n",
       "PW                0\n",
       "Classification    0\n",
       "dtype: int64"
      ]
     },
     "execution_count": 248,
     "metadata": {},
     "output_type": "execute_result"
    }
   ],
   "source": [
    "data.isna().sum()"
   ]
  },
  {
   "cell_type": "code",
   "execution_count": 249,
   "id": "04ab6fb5",
   "metadata": {},
   "outputs": [],
   "source": [
    "# All the missing values are filled with mean ."
   ]
  },
  {
   "cell_type": "markdown",
   "id": "22e27b20",
   "metadata": {},
   "source": [
    "# 3-Find out which classification model gives the best result to predict iris species.(also do random forest algorithm\n",
    "\n"
   ]
  },
  {
   "cell_type": "code",
   "execution_count": 250,
   "id": "a0219519",
   "metadata": {},
   "outputs": [
    {
     "data": {
      "text/plain": [
       "Index(['SL', 'SW', 'PL', 'PW', 'Classification'], dtype='object')"
      ]
     },
     "execution_count": 250,
     "metadata": {},
     "output_type": "execute_result"
    }
   ],
   "source": [
    "data.columns"
   ]
  },
  {
   "cell_type": "code",
   "execution_count": 251,
   "id": "5b1d7f12",
   "metadata": {},
   "outputs": [
    {
     "data": {
      "text/plain": [
       "Iris-setosa        50\n",
       "Iris-versicolor    50\n",
       "Iris-virginica     50\n",
       "Name: Classification, dtype: int64"
      ]
     },
     "execution_count": 251,
     "metadata": {},
     "output_type": "execute_result"
    }
   ],
   "source": [
    "data[\"Classification\"].value_counts()"
   ]
  },
  {
   "cell_type": "code",
   "execution_count": 252,
   "id": "100eae58",
   "metadata": {},
   "outputs": [],
   "source": [
    "#SPLITTING THE DATA SET"
   ]
  },
  {
   "cell_type": "code",
   "execution_count": 287,
   "id": "832e1cde",
   "metadata": {},
   "outputs": [],
   "source": [
    "y=data['Classification']\n",
    "X=data.drop(['Classification'],axis=1)"
   ]
  },
  {
   "cell_type": "code",
   "execution_count": 295,
   "id": "aab7d29c",
   "metadata": {},
   "outputs": [],
   "source": [
    "from sklearn.model_selection import train_test_split\n",
    "X_train,X_test,y_train,y_test=train_test_split(X,y,random_state=2,test_size=0.2)"
   ]
  },
  {
   "cell_type": "code",
   "execution_count": 296,
   "id": "337c05ac",
   "metadata": {},
   "outputs": [
    {
     "data": {
      "text/plain": [
       "(120, 4)"
      ]
     },
     "execution_count": 296,
     "metadata": {},
     "output_type": "execute_result"
    }
   ],
   "source": [
    "X_train.shape"
   ]
  },
  {
   "cell_type": "code",
   "execution_count": 297,
   "id": "915baa2c",
   "metadata": {},
   "outputs": [],
   "source": [
    "#LOGISTIC REGRESSION"
   ]
  },
  {
   "cell_type": "code",
   "execution_count": 398,
   "id": "fb3acd2e",
   "metadata": {},
   "outputs": [],
   "source": [
    "from sklearn.linear_model import LogisticRegression\n",
    "logit_model=LogisticRegression()\n",
    "logit_model.fit(X_train,y_train)\n",
    "y_pred=logit_model.predict(X_test)"
   ]
  },
  {
   "cell_type": "code",
   "execution_count": 399,
   "id": "7046b9c4",
   "metadata": {},
   "outputs": [],
   "source": [
    "from sklearn.metrics import confusion_matrix,accuracy_score,precision_score,recall_score,f1_score"
   ]
  },
  {
   "cell_type": "code",
   "execution_count": 402,
   "id": "951b7771",
   "metadata": {},
   "outputs": [
    {
     "name": "stdout",
     "output_type": "stream",
     "text": [
      "Accuracy is: 0.9333333333333333\n",
      "Precision_score: 0.9212962962962963\n",
      "Recall_score: 0.9345238095238096\n",
      "f1_score: 0.9263798111837328\n"
     ]
    }
   ],
   "source": [
    "print( \"Accuracy is:\", accuracy_score(y_test,y_pred))\n",
    "print( \"Precision_score:\", precision_score(y_test,y_pred,average='macro'))\n",
    "print( \"Recall_score:\", recall_score(y_test,y_pred,average='macro'))\n",
    "print( \"f1_score:\", f1_score(y_test,y_pred,average='macro'))"
   ]
  },
  {
   "cell_type": "code",
   "execution_count": 403,
   "id": "1572e576",
   "metadata": {},
   "outputs": [],
   "source": [
    "#KNN"
   ]
  },
  {
   "cell_type": "code",
   "execution_count": 397,
   "id": "3d69a957",
   "metadata": {},
   "outputs": [],
   "source": [
    "from sklearn.model_selection import train_test_split\n",
    "X_train,X_test,y_train,y_test=train_test_split(X,y,random_state=2,test_size=0.2)"
   ]
  },
  {
   "cell_type": "code",
   "execution_count": 348,
   "id": "6ac680d6",
   "metadata": {},
   "outputs": [],
   "source": [
    "from sklearn.neighbors import KNeighborsClassifier\n",
    "acc_values=[]\n",
    "neighbors=np.arange(3,15)\n",
    "for k in neighbors:\n",
    "    classifier=KNeighborsClassifier(n_neighbors=k,metric='minkowski')\n",
    "    classifier.fit(X_train,y_train)\n",
    "    y_pred=classifier.predict(X_test)\n",
    "    acc=accuracy_score(y_test,y_pred)\n",
    "    acc_values.append(acc)"
   ]
  },
  {
   "cell_type": "code",
   "execution_count": 349,
   "id": "c294443f",
   "metadata": {},
   "outputs": [
    {
     "data": {
      "text/plain": [
       "Text(0, 0.5, 'Accuracy')"
      ]
     },
     "execution_count": 349,
     "metadata": {},
     "output_type": "execute_result"
    },
    {
     "data": {
      "image/png": "[encoded data removed]",
      "text/plain": [
       "<Figure size 432x288 with 1 Axes>"
      ]
     },
     "metadata": {
      "needs_background": "light"
     },
     "output_type": "display_data"
    }
   ],
   "source": [
    "plt.plot(neighbors,acc_values,'o-')\n",
    "plt.xlabel('k value')\n",
    "plt.ylabel(\"Accuracy\")"
   ]
  },
  {
   "cell_type": "code",
   "execution_count": 420,
   "id": "e5d70c6b",
   "metadata": {},
   "outputs": [],
   "source": [
    "classifier=KNeighborsClassifier(n_neighbors=5,metric='minkowski')\n",
    "classifier.fit(X_train,y_train)\n",
    "y_pred=classifier.predict(X_test)"
   ]
  },
  {
   "cell_type": "code",
   "execution_count": 421,
   "id": "970e4a1d",
   "metadata": {},
   "outputs": [
    {
     "name": "stdout",
     "output_type": "stream",
     "text": [
      "Accuracy is: 0.9666666666666667\n",
      "Precision_score: 0.9629629629629629\n",
      "Recall_score: 0.9761904761904763\n",
      "f1_score: 0.9680464778503994\n"
     ]
    }
   ],
   "source": [
    "print( \"Accuracy is:\", accuracy_score(y_test,y_pred))\n",
    "print( \"Precision_score:\", precision_score(y_test,y_pred,average='macro'))\n",
    "print( \"Recall_score:\", recall_score(y_test,y_pred,average='macro'))\n",
    "print( \"f1_score:\", f1_score(y_test,y_pred,average='macro'))"
   ]
  },
  {
   "cell_type": "code",
   "execution_count": 422,
   "id": "9d839242",
   "metadata": {},
   "outputs": [],
   "source": [
    "#SVM-LINEAR"
   ]
  },
  {
   "cell_type": "code",
   "execution_count": 416,
   "id": "838c6f58",
   "metadata": {},
   "outputs": [],
   "source": [
    "from sklearn.svm import SVC\n",
    "svm_linear=SVC(kernel='linear')\n",
    "svm_linear.fit(X_train, y_train)\n",
    "y_pred=svm_linear.predict(X_test)"
   ]
  },
  {
   "cell_type": "code",
   "execution_count": 418,
   "id": "8cd046ec",
   "metadata": {},
   "outputs": [
    {
     "name": "stdout",
     "output_type": "stream",
     "text": [
      "Accuracy is: 0.9666666666666667\n",
      "Precision_score: 0.9629629629629629\n",
      "Recall_score: 0.9583333333333334\n",
      "f1_score: 0.9581699346405229\n"
     ]
    }
   ],
   "source": [
    "print( \"Accuracy is:\", accuracy_score(y_test,y_pred))\n",
    "print( \"Precision_score:\", precision_score(y_test,y_pred,average='macro'))\n",
    "print( \"Recall_score:\", recall_score(y_test,y_pred,average='macro'))\n",
    "print( \"f1_score:\", f1_score(y_test,y_pred,average='macro'))"
   ]
  },
  {
   "cell_type": "code",
   "execution_count": 362,
   "id": "d8f3c903",
   "metadata": {},
   "outputs": [],
   "source": [
    "#SVM-POLYNOMEAL"
   ]
  },
  {
   "cell_type": "code",
   "execution_count": 431,
   "id": "b277ad55",
   "metadata": {},
   "outputs": [],
   "source": [
    "svm_poly=SVC(kernel='poly',degree=3)\n",
    "svm_poly.fit(X_train, y_train)\n",
    "y_pred=svm_poly.predict(X_test)"
   ]
  },
  {
   "cell_type": "code",
   "execution_count": 433,
   "id": "cf39a5dd",
   "metadata": {},
   "outputs": [
    {
     "name": "stdout",
     "output_type": "stream",
     "text": [
      "Accuracy is: 0.9666666666666667\n",
      "Precision_score: 0.9629629629629629\n",
      "Recall_score: 0.9583333333333334\n",
      "f1_score: 0.9581699346405229\n"
     ]
    }
   ],
   "source": [
    "print( \"Accuracy is:\", accuracy_score(y_test,y_pred))\n",
    "print( \"Precision_score:\", precision_score(y_test,y_pred,average='macro'))\n",
    "print( \"Recall_score:\", recall_score(y_test,y_pred,average='macro'))\n",
    "print( \"f1_score:\", f1_score(y_test,y_pred,average='macro'))"
   ]
  },
  {
   "cell_type": "code",
   "execution_count": 434,
   "id": "ac436944",
   "metadata": {},
   "outputs": [],
   "source": [
    "# SVM-RADIAL"
   ]
  },
  {
   "cell_type": "code",
   "execution_count": 438,
   "id": "80655760",
   "metadata": {},
   "outputs": [],
   "source": [
    "svm_radi=SVC(kernel='rbf')\n",
    "svm_radi.fit(X_train, y_train)\n",
    "y_pred=svm_radi.predict(X_test)"
   ]
  },
  {
   "cell_type": "code",
   "execution_count": 439,
   "id": "60c06f94",
   "metadata": {},
   "outputs": [
    {
     "name": "stdout",
     "output_type": "stream",
     "text": [
      "Accuracy is: 0.9333333333333333\n",
      "Precision_score: 0.9212962962962963\n",
      "Recall_score: 0.9345238095238096\n",
      "f1_score: 0.9263798111837328\n"
     ]
    }
   ],
   "source": [
    "print( \"Accuracy is:\", accuracy_score(y_test,y_pred))\n",
    "print( \"Precision_score:\", precision_score(y_test,y_pred,average='macro'))\n",
    "print( \"Recall_score:\", recall_score(y_test,y_pred,average='macro'))\n",
    "print( \"f1_score:\", f1_score(y_test,y_pred,average='macro'))"
   ]
  },
  {
   "cell_type": "code",
   "execution_count": 335,
   "id": "ecd35a76",
   "metadata": {},
   "outputs": [],
   "source": [
    "# DECISION TREE"
   ]
  },
  {
   "cell_type": "code",
   "execution_count": 451,
   "id": "5439682f",
   "metadata": {},
   "outputs": [],
   "source": [
    "from sklearn.model_selection import train_test_split\n",
    "X_train,X_test,y_train,y_test=train_test_split(X,y,random_state=2,test_size=0.2)"
   ]
  },
  {
   "cell_type": "code",
   "execution_count": 452,
   "id": "b9276b72",
   "metadata": {},
   "outputs": [],
   "source": [
    "from sklearn.tree import DecisionTreeClassifier\n",
    "dt_model=DecisionTreeClassifier()\n",
    "dt_model.fit(X_train, y_train)\n",
    "y_pred=dt_model.predict(X_test)"
   ]
  },
  {
   "cell_type": "code",
   "execution_count": 453,
   "id": "011ed703",
   "metadata": {},
   "outputs": [
    {
     "name": "stdout",
     "output_type": "stream",
     "text": [
      "Accuracy is: 0.9333333333333333\n"
     ]
    }
   ],
   "source": [
    "print( \"Accuracy is:\", accuracy_score(y_test,y_pred))\n"
   ]
  },
  {
   "cell_type": "code",
   "execution_count": 456,
   "id": "6b538f80",
   "metadata": {},
   "outputs": [
    {
     "name": "stdout",
     "output_type": "stream",
     "text": [
      "Accuracy is: 0.9333333333333333\n",
      "Precision_score: 0.9166666666666666\n",
      "Recall_score: 0.9166666666666666\n",
      "f1_score: 0.9166666666666666\n"
     ]
    }
   ],
   "source": [
    "print( \"Accuracy is:\", accuracy_score(y_test,y_pred))\n",
    "print( \"Precision_score:\", precision_score(y_test,y_pred,average='macro'))\n",
    "print( \"Recall_score:\", recall_score(y_test,y_pred,average='macro'))\n",
    "print( \"f1_score:\", f1_score(y_test,y_pred,average='macro'))"
   ]
  },
  {
   "cell_type": "markdown",
   "id": "3580ef89",
   "metadata": {},
   "source": [
    "Based on F1_Score and accuracy, K.Nearest Neighbour model is the best fit model for classification."
   ]
  },
  {
   "cell_type": "code",
   "execution_count": 380,
   "id": "ab310121",
   "metadata": {},
   "outputs": [],
   "source": [
    "#RANDOM FOREST CLASSIFIER"
   ]
  },
  {
   "cell_type": "code",
   "execution_count": 458,
   "id": "56164200",
   "metadata": {},
   "outputs": [],
   "source": [
    "from sklearn.ensemble import RandomForestClassifier\n",
    "rf=RandomForestClassifier()\n",
    "rf.fit(X_train, y_train)\n",
    "y_pred=rf.predict(X_test)"
   ]
  },
  {
   "cell_type": "code",
   "execution_count": 460,
   "id": "ade60b55",
   "metadata": {},
   "outputs": [
    {
     "name": "stdout",
     "output_type": "stream",
     "text": [
      "Accuracy is: 0.9666666666666667\n",
      "Precision_score: 0.9629629629629629\n",
      "Recall_score: 0.9583333333333334\n",
      "f1_score: 0.9581699346405229\n"
     ]
    }
   ],
   "source": [
    "print( \"Accuracy is:\", accuracy_score(y_test,y_pred))\n",
    "print( \"Precision_score:\", precision_score(y_test,y_pred,average='macro'))\n",
    "print( \"Recall_score:\", recall_score(y_test,y_pred,average='macro'))\n",
    "print( \"f1_score:\", f1_score(y_test,y_pred,average='macro'))"
   ]
  },
  {
   "cell_type": "markdown",
   "id": "b86c676f",
   "metadata": {},
   "source": [
    "Accuracy and F1_score of Random Forest Model Classifer model is 0.9666 and 0.9581 respectively"
   ]
  }
 ],
 "metadata": {
  "kernelspec": {
   "display_name": "Python 3",
   "language": "python",
   "name": "python3"
  },
  "language_info": {
   "codemirror_mode": {
    "name": "ipython",
    "version": 3
   },
   "file_extension": ".py",
   "mimetype": "text/x-python",
   "name": "python",
   "nbconvert_exporter": "python",
   "pygments_lexer": "ipython3",
   "version": "3.8.8"
  }
 },
 "nbformat": 4,
 "nbformat_minor": 5
}
